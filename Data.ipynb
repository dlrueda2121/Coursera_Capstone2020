{
    "cells": [
        {
            "cell_type": "markdown",
            "metadata": {
                "collapsed": true
            },
            "source": "# Data"
        },
        {
            "cell_type": "markdown",
            "metadata": {},
            "source": "  The dataset used for the construction of the clasification model is \"Collisions-All Years\". It contains all collisions provided by Seattle Police Department and recorded by Traffic Records starting 2004.  \n    The dataframe contains 37 attributes and 194673 observations. However for this model only 6 are of these attributes provide categorical information regarding the conditions at the moment of the accident. These variables are:  \n    Collisiontype: it contains 10 different types of collisions. Parked Car, Angles, Rear Ended, Other, Sideswipe, Left Turn, Pedestrian, Cycles, Right Turn and Head On.  \n    Juntiontype: it contains 6 types of junctions. Mid-Block (not related to intersection), At Intersection (intersection related), Mid-Block (but intersection related), Driveway Junction, At Intersection (but not related to intersection) and Ramp Junction.  \n    Underinfl: has two values Y or N and indicates whether the driver was under the influence at the time of the accident.  \n    Weather: provides information about the weather conditions at the time of the accident with 10 classes. Clear, Raining, Overcast, Snowing, Other, Fog/Smog/Smoke, Sleet/Hail/Freezing Rain, Blowing Sand/Dirt, Severe Crosswind and Partly Cloudy.  \n    Roadcond: provides 8 categories for the road conditions. Dry, Wet, Ice, Snow/Slush, Other, Standing Water, Sand/Mud/Dirt and Oil.  \n    Lightcond: provides 8 options for the light conditions at the time of the accident. Daylight, Dark - Street Lights On, Dusk, Dawn, Dark - No Street Lights, Dark - Street Lights Off, Other and Dark - Unknown Lighting.   \n    "
        },
        {
            "cell_type": "markdown",
            "metadata": {},
            "source": "The target attribute which meassures severity is Severitycode and it has 5 categories: 0-unknown, 1-prop damage, 2-injury, 2b-serious injury, 3-fatality. Although the dataset only shows accidents with severitycode 1 and 2."
        },
        {
            "cell_type": "markdown",
            "metadata": {},
            "source": "The identifying attribute used in this analisys is object ID which is an enumeration from 1 to 194673."
        },
        {
            "cell_type": "code",
            "execution_count": null,
            "metadata": {},
            "outputs": [],
            "source": ""
        }
    ],
    "metadata": {
        "kernelspec": {
            "display_name": "Python 3.6",
            "language": "python",
            "name": "python3"
        },
        "language_info": {
            "codemirror_mode": {
                "name": "ipython",
                "version": 3
            },
            "file_extension": ".py",
            "mimetype": "text/x-python",
            "name": "python",
            "nbconvert_exporter": "python",
            "pygments_lexer": "ipython3",
            "version": "3.6.9"
        }
    },
    "nbformat": 4,
    "nbformat_minor": 1
}