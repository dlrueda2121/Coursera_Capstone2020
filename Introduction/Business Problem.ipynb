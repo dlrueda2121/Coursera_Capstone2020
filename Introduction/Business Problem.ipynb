{
    "cells": [
        {
            "cell_type": "markdown",
            "metadata": {
                "collapsed": true
            },
            "source": "# Introduction/Business Problem"
        },
        {
            "cell_type": "markdown",
            "metadata": {},
            "source": "    The problem we are attempting to solve affects all drivers. The goal is to develope a program capable of predicting the sevirity of a car accident under the current conditions affecting the selected route in a GPS system. If severity is detected then the driver will be alerted and a safer route will be calculated. Thus drivers will have a better chance of getting home safe. This will help reduce the number and severity of car accidents and keep our drivers safe.\n    This task can be accomplished through the use of a decision tree classifier on data about the conditions of previous car accidents."
        }
    ],
    "metadata": {
        "kernelspec": {
            "display_name": "Python 3.6",
            "language": "python",
            "name": "python3"
        },
        "language_info": {
            "codemirror_mode": {
                "name": "ipython",
                "version": 3
            },
            "file_extension": ".py",
            "mimetype": "text/x-python",
            "name": "python",
            "nbconvert_exporter": "python",
            "pygments_lexer": "ipython3",
            "version": "3.6.9"
        }
    },
    "nbformat": 4,
    "nbformat_minor": 1
}